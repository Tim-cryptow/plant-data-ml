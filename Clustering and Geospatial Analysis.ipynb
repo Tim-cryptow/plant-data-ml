{
 "cells": [
  {
   "cell_type": "code",
   "execution_count": null,
   "id": "d0292ae8",
   "metadata": {},
   "outputs": [],
   "source": [
    "import pandas as pd\n",
    "import numpy as np\n",
    "import seaborn as sns\n",
    "import matplotlib.pyplot as plt\n",
    "import geopandas as gpd\n",
    "import folium\n",
    "from geopy.geocoders import Nominatim\n",
    "from geopy.exc import GeocoderTimedOut\n",
    "\n",
    "distribution = pd.read_csv('wcvp_distribution.csv')\n",
    "names = pd.read_csv('wcvp_names.csv', low_memory=False)"
   ]
  },
  {
   "cell_type": "code",
   "execution_count": null,
   "id": "392e92e8",
   "metadata": {},
   "outputs": [],
   "source": [
    "distribution.isnull().sum()"
   ]
  },
  {
   "cell_type": "code",
   "execution_count": null,
   "id": "20c772f1",
   "metadata": {},
   "outputs": [],
   "source": [
    "columns = ['region_code_l2', 'region', 'area_code_l3', 'area']\n",
    "distribution_cleaned = distribution.dropna(subset=columns)\n",
    "print(distribution_cleaned.isnull().sum())"
   ]
  },
  {
   "cell_type": "code",
   "execution_count": null,
   "id": "65ea81ed",
   "metadata": {},
   "outputs": [],
   "source": [
    "unique_region = distribution_cleaned['region'].unique()"
   ]
  },
  {
   "cell_type": "code",
   "execution_count": null,
   "id": "d032606f",
   "metadata": {},
   "outputs": [],
   "source": [
    "# Initializing geocoder\n",
    "geolocator = Nominatim(user_agent=\"geoproject\")\n",
    "\n",
    "\n",
    "region_df = pd.DataFrame(columns=['location', 'latitude', 'longitude'])\n",
    "\n",
    "# List to track failed geocoding attempts\n",
    "failed_locations = []\n",
    "\n",
    "\n",
    "def do_geocode(location):\n",
    "    try:\n",
    "        return geolocator.geocode(location, timeout=10)\n",
    "    except GeocoderTimedOut:\n",
    "        return do_geocode(location)\n",
    "\n",
    "\n",
    "for location in unique_region:\n",
    "    loc = do_geocode(location)\n",
    "    if loc:\n",
    "        region_df = pd.concat([region_df, pd.DataFrame([{'location': location, 'latitude': loc.latitude, 'longitude': loc.longitude}])], ignore_index=True)\n",
    "    else:\n",
    "        failed_locations.append(location)\n",
    "\n",
    "print(region_df)\n",
    "\n",
    "\n",
    "print(\"Failed to geocode the following locations:\")\n",
    "print(failed_locations)"
   ]
  },
  {
   "cell_type": "code",
   "execution_count": null,
   "id": "4baf1ad2",
   "metadata": {},
   "outputs": [],
   "source": [
    "manual_geocodes = {\n",
    "    \"Northern South America\": (4.5709, -74.2973),\n",
    "    \"Papuasia\": (-6.314993, 143.95555),\n",
    "    \"Southwestern Pacific\": (-18.1425999, 178.4419499),\n",
    "    \"West Tropical Africa\": (7.3697, -5.5353),\n",
    "    \"West-Central Tropical Africa\": (-0.2280, 15.8277),\n",
    "    \"Northeast Tropical Africa\": (12.6500, 39.6333),\n",
    "    \"East Tropical Africa\": (-6.3690, 34.8888),\n",
    "    \"Middle Atlantic Ocean\": (-14.5994, -28.6731),\n",
    "    \"Western Indian Ocean\": (-12.5, 43.4),\n",
    "    \"Russian Far East\": (60.0000, 105.0000),\n",
    "    \"Subarctic America\": (58.3019, -134.4197),\n",
    "    \"Subantarctic Islands\": (-54.4296, -36.5879),\n",
    "    \"Antarctic Continent\": (-82.8628, 135.0000)\n",
    "}\n",
    "\n",
    "# Appendding manually geocoded locations to the DataFrame\n",
    "for location, (lat, lon) in manual_geocodes.items():\n",
    "    region_df = pd.concat([region_df, pd.DataFrame([{'location': location, 'latitude': lat, 'longitude': lon}])], ignore_index=True)\n",
    "\n",
    "print(\"Final DataFrame with manually geocoded locations:\")\n",
    "print(region_df)"
   ]
  },
  {
   "cell_type": "code",
   "execution_count": null,
   "id": "5ebd1f00",
   "metadata": {},
   "outputs": [],
   "source": [
    "# Merging the DataFrames on the 'Region' and 'Location' columns\n",
    "new_distribution = pd.merge(distribution_cleaned, region_df, left_on='region', right_on='location', how='left')\n",
    "\n",
    "# Dropping the redundant 'Location' column if necessary\n",
    "new_distribution.drop(columns=['location'], inplace=True)\n"
   ]
  },
  {
   "cell_type": "code",
   "execution_count": null,
   "id": "18fb6481",
   "metadata": {},
   "outputs": [],
   "source": [
    "final_dataset = pd.merge(new_distribution, names, on='plant_name_id', how='left')\n",
    "\n",
    "# dropping redundant or unwanted columns\n",
    "final_dataset.drop(columns=['infraspecific_rank', 'infraspecies', 'nomenclatural_remarks', 'replaced_synonym_author', 'homotypic_synonym', 'hybrid_formula', 'basionym_plant_name_id', 'parenthetical_author', 'parent_plant_name_id'], inplace=True)\n",
    "\n"
   ]
  },
  {
   "cell_type": "code",
   "execution_count": null,
   "id": "4c3e3183",
   "metadata": {},
   "outputs": [],
   "source": [
    "final_dataset.isnull().sum()"
   ]
  },
  {
   "cell_type": "code",
   "execution_count": null,
   "id": "29b03361",
   "metadata": {},
   "outputs": [],
   "source": [
    "final_dataset.describe(include='object')"
   ]
  },
  {
   "cell_type": "code",
   "execution_count": null,
   "id": "d2d91ed3",
   "metadata": {},
   "outputs": [],
   "source": [
    "to_dropna = ['family', 'genus', 'species']\n",
    "final_dataset_cleaned = final_dataset.dropna(subset=to_dropna)"
   ]
  },
  {
   "cell_type": "code",
   "execution_count": null,
   "id": "1945d1e0",
   "metadata": {},
   "outputs": [],
   "source": [
    "final_dataset_cleaned.isnull().sum()"
   ]
  },
  {
   "cell_type": "markdown",
   "id": "1ce35999",
   "metadata": {},
   "source": [
    "## Visualizing Species density with Heat map"
   ]
  },
  {
   "cell_type": "code",
   "execution_count": null,
   "id": "53ce3c28",
   "metadata": {},
   "outputs": [],
   "source": [
    "# Removing duplicates to ensure each species-location pair is unique\n",
    "unique_species_data = final_dataset_cleaned.drop_duplicates(subset=['species', 'latitude', 'longitude'])\n",
    "print(unique_species_data.shape)"
   ]
  },
  {
   "cell_type": "code",
   "execution_count": null,
   "id": "7656f7f8",
   "metadata": {},
   "outputs": [],
   "source": [
    "from folium.plugins import HeatMap\n",
    "\n",
    "# Creating a base map\n",
    "m = folium.Map(location=[0, 0], zoom_start=2)\n",
    "\n",
    "# Adding heatmap with unique species\n",
    "heat_data = [[row['latitude'], row['longitude']] for index, row in unique_species_data.iterrows()]\n",
    "HeatMap(heat_data).add_to(m)\n",
    "\n",
    "# Saving the heatmap to an HTML file\n",
    "m.save('unique_species_density_heatmap.html')\n",
    "\n",
    "\n",
    "m"
   ]
  },
  {
   "cell_type": "markdown",
   "id": "975a044e",
   "metadata": {},
   "source": [
    "## Plotting Unique Species Count per Continent"
   ]
  },
  {
   "cell_type": "code",
   "execution_count": null,
   "id": "63b2a3de",
   "metadata": {},
   "outputs": [],
   "source": [
    "# Counting unique species per continent\n",
    "continent_species_counts = final_dataset_cleaned.groupby('continent')['species'].nunique()\n",
    "print(continent_species_counts)\n",
    "# Plotting unique species count per continent\n",
    "plt.figure(figsize=(12, 6))\n",
    "sns.barplot(x=continent_species_counts.index, y=continent_species_counts.values, palette=\"viridis\")\n",
    "plt.title('Species Count per Continent')\n",
    "plt.xlabel('Continent')\n",
    "plt.ylabel('Species Count')\n",
    "plt.xticks(rotation=45)\n",
    "plt.show()"
   ]
  },
  {
   "cell_type": "code",
   "execution_count": null,
   "id": "c113e73c",
   "metadata": {},
   "outputs": [],
   "source": [
    "region_species_counts = final_dataset_cleaned.groupby('region')['species'].nunique()\n",
    "print(region_species_counts)\n",
    "# Plotting unique species count per region\n",
    "plt.figure(figsize=(14, 8))\n",
    "sns.barplot(x=region_species_counts.index, y=region_species_counts.values, palette=\"viridis\")\n",
    "plt.title('Species Count per Region')\n",
    "plt.xlabel('Region')\n",
    "plt.ylabel('Species Count')\n",
    "plt.xticks(rotation=90)\n",
    "plt.show()"
   ]
  },
  {
   "cell_type": "markdown",
   "id": "e306595b",
   "metadata": {},
   "source": [
    "## Interactive Geospatial Plots for Species Distribution"
   ]
  },
  {
   "cell_type": "code",
   "execution_count": null,
   "id": "ab05bd62",
   "metadata": {},
   "outputs": [],
   "source": [
    "# Creating a base map\n",
    "m = folium.Map(location=[0, 0], zoom_start=2)\n",
    "\n",
    "# Adding markers for each unique species-location pair\n",
    "for index, row in unique_species_data.iterrows():\n",
    "    folium.Marker(\n",
    "        location=[row['latitude'], row['longitude']],\n",
    "        popup=row['species']\n",
    "    ).add_to(m)\n",
    "\n",
    "# Saving the map to an HTML file\n",
    "m.save('unique_species_distribution_map.html')\n",
    "\n",
    "\n",
    "m"
   ]
  },
  {
   "cell_type": "markdown",
   "id": "8a6e620f",
   "metadata": {},
   "source": [
    "## Exploring Introduced and Extinct species"
   ]
  },
  {
   "cell_type": "code",
   "execution_count": null,
   "id": "50f6a466",
   "metadata": {},
   "outputs": [],
   "source": [
    "introduced_species = final_dataset_cleaned[final_dataset_cleaned['introduced'] == 1]\n",
    "\n",
    "unique_introduced_species = introduced_species.drop_duplicates(subset=['species', 'continent'])\n",
    "\n",
    "\n",
    "introduced_per_continent = unique_introduced_species.groupby('continent').size().sort_values(ascending=False)\n",
    "\n",
    "print(introduced_per_continent)\n",
    "\n",
    "# Plotting number of unique plant species introduced in various continents\n",
    "plt.figure(figsize=(14, 6))\n",
    "introduced_per_continent.plot(kind='bar')\n",
    "plt.title('Number of Unique Plant Species Introduced in Various Continents')\n",
    "plt.xlabel('Continent')\n",
    "plt.ylabel('Count')\n",
    "plt.show()\n"
   ]
  },
  {
   "cell_type": "code",
   "execution_count": null,
   "id": "b51ebdea",
   "metadata": {},
   "outputs": [],
   "source": [
    "extinct_species = final_dataset_cleaned[final_dataset_cleaned['extinct'] == 1]\n",
    "\n",
    "# Remove duplicate species based on their identifier\n",
    "unique_extinct_species = extinct_species.drop_duplicates(subset=['species', 'continent'])\n",
    "\n",
    "# Group by continent and count unique introduced species\n",
    "extinct_per_continent = unique_extinct_species.groupby('continent').size().sort_values(ascending=False)\n",
    "\n",
    "print(extinct_per_continent)\n",
    "\n",
    "# Plotting number of unique plant species extinct in various continents\n",
    "plt.figure(figsize=(14, 6))\n",
    "extinct_per_continent.plot(kind='bar')\n",
    "plt.title('Number of Unique Plant Species extinct in Various Continents')\n",
    "plt.xlabel('Continent')\n",
    "plt.ylabel('Count')\n",
    "plt.show()"
   ]
  },
  {
   "cell_type": "markdown",
   "id": "eced2354",
   "metadata": {},
   "source": [
    "# Clustering analysis on the geographical data"
   ]
  },
  {
   "cell_type": "markdown",
   "id": "4fc23182",
   "metadata": {},
   "source": [
    "### By Location - Latitude and Longitude"
   ]
  },
  {
   "cell_type": "code",
   "execution_count": null,
   "id": "62a0486a",
   "metadata": {},
   "outputs": [],
   "source": [
    "# Ensure the data is unique by species and location\n",
    "unique_species_data = final_dataset_cleaned.drop_duplicates(subset=['species', 'latitude', 'longitude'])\n",
    "print(unique_species_data.shape)"
   ]
  },
  {
   "cell_type": "code",
   "execution_count": null,
   "id": "9e3b2230",
   "metadata": {},
   "outputs": [],
   "source": [
    "from sklearn.cluster import KMeans\n",
    "\n",
    "# Extracting latitude and longitude for clustering\n",
    "X = unique_species_data[['latitude', 'longitude']]\n",
    "\n",
    "# Determining the optimal number of clusters using the elbow method\n",
    "inertia = []\n",
    "k_range = range(1, 15)\n",
    "for k in k_range:\n",
    "    kmeans = KMeans(n_clusters=k, random_state=0, n_init=10).fit(X)\n",
    "    inertia.append(kmeans.inertia_)\n",
    "\n",
    "# Plotting the elbow curve\n",
    "plt.figure(figsize=(8, 5))\n",
    "plt.plot(k_range, inertia, 'bo-')\n",
    "plt.xlabel('Number of clusters (k)')\n",
    "plt.ylabel('Inertia')\n",
    "plt.title('Elbow Method For Optimal k')\n",
    "plt.show()"
   ]
  },
  {
   "cell_type": "code",
   "execution_count": null,
   "id": "340a2016",
   "metadata": {},
   "outputs": [],
   "source": [
    "# KMeans clustering\n",
    "optimal_k = 4  \n",
    "kmeans = KMeans(n_clusters=optimal_k, random_state=0, n_init=10).fit(X)\n",
    "\n",
    "unique_species_data['Cluster'] = kmeans.labels_\n",
    "\n",
    "# Visualizing the clusters\n",
    "plt.figure(figsize=(10, 6))\n",
    "plt.scatter(unique_species_data['longitude'], unique_species_data['latitude'], c=unique_species_data['Cluster'], cmap='viridis', marker='o')\n",
    "plt.colorbar(label='Cluster')\n",
    "plt.xlabel('Longitude')\n",
    "plt.ylabel('Latitude')\n",
    "plt.title('Species Clustering Based on Geographical Data')\n",
    "plt.show()\n"
   ]
  },
  {
   "cell_type": "code",
   "execution_count": null,
   "id": "32543ec7",
   "metadata": {},
   "outputs": [],
   "source": [
    "# Creating a base map\n",
    "m = folium.Map(location=[0, 0], zoom_start=2)\n",
    "\n",
    "colors = ['red', 'blue', 'green', 'purple']\n",
    "\n",
    "\n",
    "for index, row in unique_species_data.iterrows():\n",
    "    folium.CircleMarker(\n",
    "        location=[row['latitude'], row['longitude']],\n",
    "        radius=5,\n",
    "        popup=f\"Species: {row['species']}\\nCluster: {row['Cluster']}\",\n",
    "        color=colors[row['Cluster']],\n",
    "        fill=True,\n",
    "        fill_color=colors[row['Cluster']]\n",
    "    ).add_to(m)\n",
    "\n",
    "# Saving the map to an HTML file\n",
    "m.save('Species_clusters_map.html')\n"
   ]
  },
  {
   "cell_type": "markdown",
   "id": "208fcbae",
   "metadata": {},
   "source": [
    "## By Region"
   ]
  },
  {
   "cell_type": "code",
   "execution_count": null,
   "id": "260f201b",
   "metadata": {},
   "outputs": [],
   "source": [
    "species_count_per_region = final_dataset_cleaned.groupby('region')['species'].nunique().reset_index()\n",
    "species_count_per_region.columns = ['region', 'speciescount']\n"
   ]
  },
  {
   "cell_type": "code",
   "execution_count": null,
   "id": "97ba4221",
   "metadata": {},
   "outputs": [],
   "source": [
    "final_df = final_dataset_cleaned.merge(species_count_per_region, on='region', how='left')\n"
   ]
  },
  {
   "cell_type": "code",
   "execution_count": null,
   "id": "460db7df",
   "metadata": {},
   "outputs": [],
   "source": [
    "final_df.isnull().sum()"
   ]
  },
  {
   "cell_type": "code",
   "execution_count": null,
   "id": "512cfc67",
   "metadata": {},
   "outputs": [],
   "source": [
    "from sklearn.cluster import KMeans\n",
    "\n",
    "kmeans = KMeans(n_clusters=4, random_state=42)\n",
    "final_df['KMeans_Cluster'] = kmeans.fit_predict(final_df[['latitude', 'longitude', 'speciescount']])\n"
   ]
  },
  {
   "cell_type": "code",
   "execution_count": null,
   "id": "4487fb93",
   "metadata": {},
   "outputs": [],
   "source": [
    "plt.figure(figsize=(12, 8))\n",
    "sns.scatterplot(data=final_df, x='longitude', y='latitude', hue='KMeans_Cluster', palette='viridis')\n",
    "plt.title('K-Means Clustering of Species Distribution')\n",
    "plt.show()\n"
   ]
  },
  {
   "cell_type": "markdown",
   "id": "f105c8e3",
   "metadata": {},
   "source": [
    "# Kernel Density Estimation"
   ]
  },
  {
   "cell_type": "code",
   "execution_count": null,
   "id": "1732aba7",
   "metadata": {},
   "outputs": [],
   "source": [
    "# Ensure each row represents a unique species-location pair\n",
    "unique_species_locations = final_dataset_cleaned.drop_duplicates(subset=['species', 'latitude', 'longitude'])\n",
    "\n",
    "# Extracting the latitude and longitude columns\n",
    "latitudes = unique_species_locations['latitude']\n",
    "longitudes = unique_species_locations['longitude']\n",
    "\n",
    "# Plotting the KDE\n",
    "plt.figure(figsize=(10, 6))\n",
    "kde = sns.kdeplot(x=longitudes, y=latitudes, cmap=\"viridis\", fill=True, bw_adjust=0.5)\n",
    "plt.title('Kernel Density Estimation of Unique Species Distribution Across Multiple Locations')\n",
    "plt.xlabel('Longitude')\n",
    "plt.ylabel('Latitude')\n",
    "plt.show()"
   ]
  },
  {
   "cell_type": "markdown",
   "id": "345e57e4",
   "metadata": {},
   "source": [
    "# Spatial Autocorrelation"
   ]
  },
  {
   "cell_type": "code",
   "execution_count": null,
   "id": "53fd97ce",
   "metadata": {},
   "outputs": [],
   "source": [
    "from esda.moran import Moran\n",
    "from libpysal.weights import Queen\n",
    "from shapely.geometry import Point\n",
    "\n",
    "RANDOM_SEED = 42\n",
    "\n",
    "# Assuming final_dataset_cleaned contains columns 'latitude', 'longitude', and 'species'\n",
    "\n",
    "# Dropping duplicates to ensure unique species per geographical point\n",
    "unique_species_per_location = final_dataset_cleaned.drop_duplicates(subset=['species', 'longitude', 'latitude'])\n",
    "\n",
    "# Sampling the data to reduce size (10% of the unique species per location data)\n",
    "sample_size = int(len(unique_species_per_location) * 0.1)\n",
    "sampled_species = unique_species_per_location.sample(n=sample_size, random_state=RANDOM_SEED)\n",
    "\n",
    "# Creating a GeoDataFrame\n",
    "gdf = gpd.GeoDataFrame(sampled_species, geometry=gpd.points_from_xy(sampled_species.longitude, sampled_species.latitude))\n",
    "\n",
    "# Calculating spatial weights (using Queen contiguity as an example)\n",
    "weights = Queen.from_dataframe(gdf)\n",
    "\n",
    "gdf['species_count'] = gdf.groupby('species')['species'].transform('count')\n",
    "\n",
    "# Computing Moran's I\n",
    "y = gdf['species_count'].values\n",
    "moran = Moran(y, weights)\n",
    "\n",
    "# Printing Moran's I and p-value\n",
    "print(f\"Moran's I: {moran.I}\")\n",
    "print(f\"P-value: {moran.p_sim}\")\n",
    "\n",
    "# Plotting the results\n",
    "fig, ax = plt.subplots(1, 1, figsize=(8, 6))\n",
    "ax.hist(moran.sim, bins=30)\n",
    "plt.axvline(moran.I, color='r')\n",
    "plt.title(\"Moran's I simulation distribution\")\n",
    "plt.show()"
   ]
  },
  {
   "cell_type": "code",
   "execution_count": null,
   "id": "334d475d",
   "metadata": {},
   "outputs": [],
   "source": [
    "# Plotting the results\n",
    "fig, ax = plt.subplots(1, 1, figsize=(20, 8))\n",
    "ax.hist(moran.sim, bins=50)\n",
    "plt.axvline(moran.I, color='r', linestyle='dashed', linewidth=2)\n",
    "plt.title(\"Moran's I Simulation Distribution\")\n",
    "plt.xlabel(\"Simulated Moran's I\")\n",
    "plt.ylabel(\"Frequency\")\n",
    "plt.show()"
   ]
  },
  {
   "cell_type": "code",
   "execution_count": null,
   "id": "87affc6a",
   "metadata": {},
   "outputs": [],
   "source": [
    "import contextily as ctx  # For basemap\n",
    "\n",
    "# Plotting the GeoDataFrame\n",
    "fig, ax = plt.subplots(1, 1, figsize=(10, 8))\n",
    "gdf.plot(column='species_count', cmap='OrRd', legend=True, ax=ax)\n",
    "plt.title('Species Count per Region')\n",
    "\n",
    "# Adding basemap\n",
    "ctx.add_basemap(ax, crs=gdf.crs.to_string(), source=ctx.providers.Stamen.TerrainBackground)\n",
    "plt.show()"
   ]
  },
  {
   "cell_type": "code",
   "execution_count": null,
   "id": "c2d04fbf",
   "metadata": {},
   "outputs": [],
   "source": [
    "from sklearn.cluster import KMeans\n",
    "\n",
    "# Dropping duplicates based on species, latitude, and longitude\n",
    "unique_species_location = final_dataset_cleaned.drop_duplicates(subset=['species', 'latitude', 'longitude'])\n",
    "\n",
    "# Creating a GeoDataFrame with unique species-location pairs\n",
    "gdf = gpd.GeoDataFrame(unique_species_location, geometry=gpd.points_from_xy(unique_species_location.longitude, unique_species_location.latitude))\n",
    "gdf.set_crs(epsg=4326, inplace=True)  # Set the CRS to WGS84 (EPSG:4326)\n",
    "\n",
    "# Extracting coordinates for clustering\n",
    "coords = np.array(list(zip(gdf.geometry.x, gdf.geometry.y)))\n",
    "\n",
    "# Performing KMeans clustering\n",
    "kmeans = KMeans(n_clusters=4, random_state=0)  # Adjust the number of clusters (n_clusters) as needed\n",
    "gdf['cluster_labels'] = kmeans.fit_predict(coords)\n",
    "\n",
    "# Plotting the GeoDataFrame with cluster labels\n",
    "fig, ax = plt.subplots(1, 1, figsize=(10, 8))\n",
    "gdf.plot(column='cluster_labels', cmap='viridis', legend=True, ax=ax)\n",
    "plt.title('Clusters of Species Distribution')\n",
    "\n",
    "\n",
    "# Adding basemap\n",
    "try:\n",
    "    ctx.add_basemap(ax, crs=gdf.crs.to_string(), source=ctx.providers.CartoDB.Positron)\n",
    "except Exception as e:\n",
    "    print(f\"Error adding basemap: {e}\")\n",
    "\n",
    "plt.show()"
   ]
  }
 ],
 "metadata": {
  "kernelspec": {
   "display_name": "Python 3 (ipykernel)",
   "language": "python",
   "name": "python3"
  },
  "language_info": {
   "codemirror_mode": {
    "name": "ipython",
    "version": 3
   },
   "file_extension": ".py",
   "mimetype": "text/x-python",
   "name": "python",
   "nbconvert_exporter": "python",
   "pygments_lexer": "ipython3",
   "version": "3.11.3"
  }
 },
 "nbformat": 4,
 "nbformat_minor": 5
}
